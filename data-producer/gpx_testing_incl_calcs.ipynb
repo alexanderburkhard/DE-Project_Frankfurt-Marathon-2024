{
 "cells": [
  {
   "cell_type": "code",
   "execution_count": 1,
   "id": "ceb3a628-3b81-44f7-af30-329378cafe12",
   "metadata": {},
   "outputs": [],
   "source": [
    "from lxml import etree\n",
    "from datetime import timedelta, date, datetime\n",
    "import time\n",
    "from geopy import distance"
   ]
  },
  {
   "cell_type": "code",
   "execution_count": 2,
   "id": "5c1f571d-bb16-45d9-90c4-42855ef6b5ea",
   "metadata": {},
   "outputs": [],
   "source": [
    "def extract_gpx(gpx_path):\n",
    "    tree = etree.parse(gpx_path)\n",
    "    root = tree.getroot()\n",
    "    ns = {'default': 'http://www.topografix.com/GPX/1/1',\n",
    "        'gpxtpx': 'http://www.garmin.com/xmlschemas/TrackPointExtension/v1'}\n",
    "    trkpts = root.findall('.//default:trkpt', namespaces=ns)\n",
    "    data_points = []\n",
    "        \n",
    "    for trkpt in trkpts:\n",
    "            lat = trkpt.get('lat')\n",
    "            lon = trkpt.get('lon')\n",
    "            time_elem = trkpt.find('default:time', namespaces=ns)\n",
    "            ele_elem = trkpt.find('default:ele', namespaces=ns)\n",
    "            hr_elem = trkpt.find('.//gpxtpx:hr', namespaces=ns)\n",
    "    \n",
    "            if time_elem is not None and hr_elem is not None:\n",
    "                timestamp = time_elem.text\n",
    "                elevation = ele_elem.text\n",
    "                heart_rate = hr_elem.text\n",
    "                data_points.append({\n",
    "                    'timestamp': timestamp,\n",
    "                    'latitude': lat,\n",
    "                    'longitude': lon,\n",
    "                    'elevation': elevation,\n",
    "                    'heart_rate': heart_rate\n",
    "                })\n",
    "\n",
    "    return data_points"
   ]
  },
  {
   "cell_type": "code",
   "execution_count": 3,
   "id": "e061ee64-19a9-404c-bfb5-441150c459dc",
   "metadata": {},
   "outputs": [],
   "source": [
    "marathon_run = extract_gpx('FFM_Marathon_2024.gpx')"
   ]
  },
  {
   "cell_type": "code",
   "execution_count": 12,
   "id": "2c7479e2-82d6-4918-bed6-c114a2811779",
   "metadata": {},
   "outputs": [],
   "source": [
    "def iterate_workout(data_points):\n",
    "    prev_timestamp = None\n",
    "    prev_geo = None\n",
    "    distance_total = 0\n",
    "    distance_point = 0\n",
    "    \n",
    "    speed_point = 0\n",
    "    speed_rolling = []\n",
    "    speed_current = 0\n",
    "\n",
    "    hr_avg = 0\n",
    "    \n",
    "    time_passed = 0\n",
    "    sleep_time = 0\n",
    "    \n",
    "    for data in data_points:\n",
    "        current_timestamp = datetime.strptime(data['timestamp'], '%Y-%m-%dT%H:%M:%SZ')\n",
    "        current_geo = (data['latitude'], data['longitude'])\n",
    "        if prev_timestamp is not None:\n",
    "            sleep_time = (current_timestamp - prev_timestamp).total_seconds()\n",
    "            time.sleep(max(sleep_time, 0))\n",
    "\n",
    "        if prev_geo is not None:\n",
    "            distance_point = distance.distance(prev_geo, current_geo).km\n",
    "            if sleep_time == 0:\n",
    "                speed = 0\n",
    "            else:\n",
    "                speed_point = distance_point/(sleep_time/3600)\n",
    "                if len(speed_rolling) >= 10:\n",
    "                    speed_rolling = speed_rolling[1:]\n",
    "                speed_rolling.append(speed_point)\n",
    "                speed_current = round(sum(speed_rolling)/len(speed_rolling),2)\n",
    "\n",
    "        time_passed += sleep_time\n",
    "        distance_total += distance_point\n",
    "        \n",
    "        if time_passed == 0:\n",
    "            speed_avg = 0\n",
    "            hr_avg = float(data['heart_rate'])\n",
    "        else:\n",
    "            speed_avg = distance_total/(time_passed/3600)\n",
    "            hr_avg = (hr_avg*(time_passed-sleep_time)/time_passed)+(float(data['heart_rate'])*sleep_time/time_passed)\n",
    "\n",
    "        prev_timestamp = current_timestamp\n",
    "        prev_geo = current_geo\n",
    "        \n",
    "        print(f\"Time: {data['timestamp']} / HR: {data['heart_rate']} / Avg. HR {hr_avg} / KM/H: {speed_current} / Time passed: {time_passed} / KM:{round(distance_total, 4)}\\\n",
    "        /Avg.KM/H: {speed_avg} / \")       "
   ]
  },
  {
   "cell_type": "code",
   "execution_count": 14,
   "id": "057b1e4c-bc34-445c-ada8-0f3a8a9ba333",
   "metadata": {},
   "outputs": [
    {
     "name": "stdout",
     "output_type": "stream",
     "text": [
      "Time: 2024-10-27T09:13:19Z / HR: 163 / Avg. HR 163.0 / KM/H: 0 / Time passed: 0 / KM:0        /Avg.KM/H: 0 / \n",
      "Time: 2024-10-27T09:13:20Z / HR: 163 / Avg. HR 163.0 / KM/H: 8.48 / Time passed: 1.0 / KM:0.0024        /Avg.KM/H: 8.480710469317692 / \n",
      "Time: 2024-10-27T09:13:21Z / HR: 163 / Avg. HR 163.0 / KM/H: 8.48 / Time passed: 2.0 / KM:0.0047        /Avg.KM/H: 8.480711184656322 / \n",
      "Time: 2024-10-27T09:13:22Z / HR: 163 / Avg. HR 163.0 / KM/H: 8.48 / Time passed: 3.0 / KM:0.0071        /Avg.KM/H: 8.48071189660127 / \n",
      "Time: 2024-10-27T09:13:23Z / HR: 163 / Avg. HR 163.0 / KM/H: 8.48 / Time passed: 4.0 / KM:0.0094        /Avg.KM/H: 8.480712608653038 / \n",
      "Time: 2024-10-27T09:13:24Z / HR: 163 / Avg. HR 163.0 / KM/H: 8.52 / Time passed: 5.0 / KM:0.0118        /Avg.KM/H: 8.521657977781492 / \n",
      "Time: 2024-10-27T09:13:25Z / HR: 163 / Avg. HR 163.0 / KM/H: 8.47 / Time passed: 6.0 / KM:0.0141        /Avg.KM/H: 8.474879988618758 / \n",
      "Time: 2024-10-27T09:13:26Z / HR: 163 / Avg. HR 163.0 / KM/H: 9.48 / Time passed: 7.0 / KM:0.0184        /Avg.KM/H: 9.479729707448682 / \n",
      "Time: 2024-10-27T09:13:27Z / HR: 163 / Avg. HR 163.0 / KM/H: 8.95 / Time passed: 8.0 / KM:0.0199        /Avg.KM/H: 8.947126676039575 / \n",
      "Time: 2024-10-27T09:13:28Z / HR: 166 / Avg. HR 163.33333333333331 / KM/H: 9.85 / Time passed: 9.0 / KM:0.0246        /Avg.KM/H: 9.854725518796755 / \n",
      "Time: 2024-10-27T09:13:29Z / HR: 166 / Avg. HR 163.59999999999997 / KM/H: 9.56 / Time passed: 10.0 / KM:0.0266        /Avg.KM/H: 9.562994127259199 / \n",
      "Time: 2024-10-27T09:13:30Z / HR: 168 / Avg. HR 163.99999999999997 / KM/H: 9.39 / Time passed: 11.0 / KM:0.0284        /Avg.KM/H: 9.304017138069993 / \n",
      "Time: 2024-10-27T09:13:31Z / HR: 168 / Avg. HR 164.33333333333331 / KM/H: 10.08 / Time passed: 12.0 / KM:0.0327        /Avg.KM/H: 9.810182109767567 / \n",
      "Time: 2024-10-27T09:13:32Z / HR: 168 / Avg. HR 164.6153846153846 / KM/H: 9.7 / Time passed: 13.0 / KM:0.034        /Avg.KM/H: 9.422430901856734 / \n",
      "Time: 2024-10-27T09:13:33Z / HR: 168 / Avg. HR 164.85714285714286 / KM/H: 9.85 / Time passed: 14.0 / KM:0.0368        /Avg.KM/H: 9.461210258903835 / \n",
      "Time: 2024-10-27T09:13:34Z / HR: 168 / Avg. HR 165.06666666666666 / KM/H: 9.98 / Time passed: 15.0 / KM:0.0396        /Avg.KM/H: 9.49488377317877 / \n",
      "Time: 2024-10-27T09:13:35Z / HR: 170 / Avg. HR 165.375 / KM/H: 10.13 / Time passed: 16.0 / KM:0.0423        /Avg.KM/H: 9.511108977139495 / \n",
      "Time: 2024-10-27T09:13:36Z / HR: 170 / Avg. HR 165.64705882352942 / KM/H: 10.03 / Time passed: 17.0 / KM:0.0463        /Avg.KM/H: 9.805309874859391 / \n",
      "Time: 2024-10-27T09:13:37Z / HR: 170 / Avg. HR 165.8888888888889 / KM/H: 9.99 / Time passed: 18.0 / KM:0.0476        /Avg.KM/H: 9.525706805499388 / \n",
      "Time: 2024-10-27T09:13:38Z / HR: 170 / Avg. HR 166.10526315789477 / KM/H: 9.88 / Time passed: 19.0 / KM:0.0521        /Avg.KM/H: 9.867946619074916 / \n",
      "Time: 2024-10-27T09:13:39Z / HR: 170 / Avg. HR 166.3 / KM/H: 9.86 / Time passed: 20.0 / KM:0.0539        /Avg.KM/H: 9.710262275628418 / \n",
      "Time: 2024-10-27T09:13:40Z / HR: 170 / Avg. HR 166.47619047619048 / KM/H: 9.81 / Time passed: 21.0 / KM:0.0557        /Avg.KM/H: 9.547165631284534 / \n",
      "Time: 2024-10-27T09:13:41Z / HR: 170 / Avg. HR 166.63636363636363 / KM/H: 9.9 / Time passed: 22.0 / KM:0.0602        /Avg.KM/H: 9.851567700698943 / \n",
      "Time: 2024-10-27T09:13:42Z / HR: 170 / Avg. HR 166.7826086956522 / KM/H: 10.07 / Time passed: 23.0 / KM:0.062        /Avg.KM/H: 9.70578070790228 / \n",
      "Time: 2024-10-27T09:13:43Z / HR: 170 / Avg. HR 166.91666666666669 / KM/H: 9.75 / Time passed: 24.0 / KM:0.0639        /Avg.KM/H: 9.581739565572892 / \n",
      "Time: 2024-10-27T09:13:44Z / HR: 172 / Avg. HR 167.12 / KM/H: 10.21 / Time passed: 25.0 / KM:0.0679        /Avg.KM/H: 9.778971848852452 / \n",
      "Time: 2024-10-27T09:13:45Z / HR: 171 / Avg. HR 167.26923076923075 / KM/H: 9.71 / Time passed: 26.0 / KM:0.0692        /Avg.KM/H: 9.586297134212908 / \n",
      "Time: 2024-10-27T09:13:46Z / HR: 171 / Avg. HR 167.4074074074074 / KM/H: 9.84 / Time passed: 27.0 / KM:0.0736        /Avg.KM/H: 9.816869096744668 / \n",
      "Time: 2024-10-27T09:13:47Z / HR: 171 / Avg. HR 167.53571428571428 / KM/H: 10.01 / Time passed: 28.0 / KM:0.0754        /Avg.KM/H: 9.698354951237842 / \n",
      "Time: 2024-10-27T09:13:48Z / HR: 171 / Avg. HR 167.6551724137931 / KM/H: 9.03 / Time passed: 29.0 / KM:0.0772        /Avg.KM/H: 9.580661431940813 / \n",
      "Time: 2024-10-27T09:13:49Z / HR: 171 / Avg. HR 167.76666666666665 / KM/H: 9.77 / Time passed: 30.0 / KM:0.0811        /Avg.KM/H: 9.730577575485006 / \n",
      "Time: 2024-10-27T09:13:50Z / HR: 171 / Avg. HR 167.8709677419355 / KM/H: 9.62 / Time passed: 31.0 / KM:0.0824        /Avg.KM/H: 9.570540683649611 / \n",
      "Time: 2024-10-27T09:13:51Z / HR: 171 / Avg. HR 167.96875 / KM/H: 9.62 / Time passed: 32.0 / KM:0.0869        /Avg.KM/H: 9.779087602919958 / \n",
      "Time: 2024-10-27T09:13:52Z / HR: 171 / Avg. HR 168.06060606060606 / KM/H: 9.62 / Time passed: 33.0 / KM:0.0887        /Avg.KM/H: 9.679675221013715 / \n",
      "Time: 2024-10-27T09:13:53Z / HR: 171 / Avg. HR 168.14705882352942 / KM/H: 9.62 / Time passed: 34.0 / KM:0.0906        /Avg.KM/H: 9.592457638242765 / \n",
      "Time: 2024-10-27T09:13:54Z / HR: 169 / Avg. HR 168.17142857142858 / KM/H: 9.73 / Time passed: 35.0 / KM:0.0949        /Avg.KM/H: 9.764119803163746 / \n"
     ]
    },
    {
     "ename": "KeyboardInterrupt",
     "evalue": "",
     "output_type": "error",
     "traceback": [
      "\u001b[0;31m---------------------------------------------------------------------------\u001b[0m",
      "\u001b[0;31mKeyboardInterrupt\u001b[0m                         Traceback (most recent call last)",
      "Cell \u001b[0;32mIn[14], line 1\u001b[0m\n\u001b[0;32m----> 1\u001b[0m \u001b[43miterate_workout\u001b[49m\u001b[43m(\u001b[49m\u001b[43mmarathon_run\u001b[49m\u001b[43m)\u001b[49m\n",
      "Cell \u001b[0;32mIn[12], line 21\u001b[0m, in \u001b[0;36miterate_workout\u001b[0;34m(data_points)\u001b[0m\n\u001b[1;32m     19\u001b[0m \u001b[38;5;28;01mif\u001b[39;00m prev_timestamp \u001b[38;5;129;01mis\u001b[39;00m \u001b[38;5;129;01mnot\u001b[39;00m \u001b[38;5;28;01mNone\u001b[39;00m:\n\u001b[1;32m     20\u001b[0m     sleep_time \u001b[38;5;241m=\u001b[39m (current_timestamp \u001b[38;5;241m-\u001b[39m prev_timestamp)\u001b[38;5;241m.\u001b[39mtotal_seconds()\n\u001b[0;32m---> 21\u001b[0m     \u001b[43mtime\u001b[49m\u001b[38;5;241;43m.\u001b[39;49m\u001b[43msleep\u001b[49m\u001b[43m(\u001b[49m\u001b[38;5;28;43mmax\u001b[39;49m\u001b[43m(\u001b[49m\u001b[43msleep_time\u001b[49m\u001b[43m,\u001b[49m\u001b[43m \u001b[49m\u001b[38;5;241;43m0\u001b[39;49m\u001b[43m)\u001b[49m\u001b[43m)\u001b[49m\n\u001b[1;32m     23\u001b[0m \u001b[38;5;28;01mif\u001b[39;00m prev_geo \u001b[38;5;129;01mis\u001b[39;00m \u001b[38;5;129;01mnot\u001b[39;00m \u001b[38;5;28;01mNone\u001b[39;00m:\n\u001b[1;32m     24\u001b[0m     distance_point \u001b[38;5;241m=\u001b[39m distance\u001b[38;5;241m.\u001b[39mdistance(prev_geo, current_geo)\u001b[38;5;241m.\u001b[39mkm\n",
      "\u001b[0;31mKeyboardInterrupt\u001b[0m: "
     ]
    }
   ],
   "source": [
    "iterate_workout(marathon_run)"
   ]
  },
  {
   "cell_type": "code",
   "execution_count": null,
   "id": "df6f77a3-feb0-4368-a927-3d654664f6c8",
   "metadata": {},
   "outputs": [
    {
     "data": {
      "text/plain": [
       "<module 'geopy' from 'C:\\\\Users\\\\ABurkhard\\\\AppData\\\\Local\\\\Programs\\\\Python\\\\Python311\\\\Lib\\\\site-packages\\\\geopy\\\\__init__.py'>"
      ]
     },
     "execution_count": 13,
     "metadata": {},
     "output_type": "execute_result"
    }
   ],
   "source": [
    "geopy"
   ]
  },
  {
   "cell_type": "code",
   "execution_count": null,
   "id": "a19f86aa-8d7d-42ae-8eb0-338edf0f4b42",
   "metadata": {},
   "outputs": [],
   "source": []
  }
 ],
 "metadata": {
  "kernelspec": {
   "display_name": "Python 3",
   "language": "python",
   "name": "python3"
  },
  "language_info": {
   "codemirror_mode": {
    "name": "ipython",
    "version": 3
   },
   "file_extension": ".py",
   "mimetype": "text/x-python",
   "name": "python",
   "nbconvert_exporter": "python",
   "pygments_lexer": "ipython3",
   "version": "3.12.4"
  }
 },
 "nbformat": 4,
 "nbformat_minor": 5
}
