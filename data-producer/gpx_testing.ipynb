{
 "cells": [
  {
   "cell_type": "code",
   "execution_count": 1,
   "id": "ceb3a628-3b81-44f7-af30-329378cafe12",
   "metadata": {
    "execution": {
     "iopub.execute_input": "2024-11-10T18:25:55.169428Z",
     "iopub.status.busy": "2024-11-10T18:25:55.168195Z",
     "iopub.status.idle": "2024-11-10T18:25:55.216977Z",
     "shell.execute_reply": "2024-11-10T18:25:55.216428Z",
     "shell.execute_reply.started": "2024-11-10T18:25:55.169337Z"
    }
   },
   "outputs": [],
   "source": [
    "from lxml import etree\n",
    "from datetime import timedelta, date, datetime\n",
    "import time"
   ]
  },
  {
   "cell_type": "code",
   "execution_count": 2,
   "id": "5c1f571d-bb16-45d9-90c4-42855ef6b5ea",
   "metadata": {
    "execution": {
     "iopub.execute_input": "2024-11-10T18:25:56.025985Z",
     "iopub.status.busy": "2024-11-10T18:25:56.025490Z",
     "iopub.status.idle": "2024-11-10T18:25:56.034535Z",
     "shell.execute_reply": "2024-11-10T18:25:56.033307Z",
     "shell.execute_reply.started": "2024-11-10T18:25:56.025959Z"
    }
   },
   "outputs": [],
   "source": [
    "def extract_gpx(gpx_path):\n",
    "    tree = etree.parse(gpx_path)\n",
    "    root = tree.getroot()\n",
    "    ns = {'default': 'http://www.topografix.com/GPX/1/1',\n",
    "        'gpxtpx': 'http://www.garmin.com/xmlschemas/TrackPointExtension/v1'}\n",
    "    trkpts = root.findall('.//default:trkpt', namespaces=ns)\n",
    "    data_points = []\n",
    "        \n",
    "    for trkpt in trkpts:\n",
    "            lat = trkpt.get('lat')\n",
    "            lon = trkpt.get('lon')\n",
    "            time_elem = trkpt.find('default:time', namespaces=ns)\n",
    "            ele_elem = trkpt.find('default:ele', namespaces=ns)\n",
    "            hr_elem = trkpt.find('.//gpxtpx:hr', namespaces=ns)\n",
    "    \n",
    "            if time_elem is not None and hr_elem is not None:\n",
    "                timestamp = time_elem.text\n",
    "                elevation = ele_elem.text\n",
    "                heart_rate = hr_elem.text\n",
    "                data_points.append({\n",
    "                    'timestamp': timestamp,\n",
    "                    'latitude': lat,\n",
    "                    'longitude': lon,\n",
    "                    'elevation': elevation,\n",
    "                    'heart_rate': heart_rate\n",
    "                })\n",
    "\n",
    "    return data_points"
   ]
  },
  {
   "cell_type": "code",
   "execution_count": 3,
   "id": "e061ee64-19a9-404c-bfb5-441150c459dc",
   "metadata": {
    "execution": {
     "iopub.execute_input": "2024-11-10T18:25:57.243088Z",
     "iopub.status.busy": "2024-11-10T18:25:57.242510Z",
     "iopub.status.idle": "2024-11-10T18:25:57.432479Z",
     "shell.execute_reply": "2024-11-10T18:25:57.432151Z",
     "shell.execute_reply.started": "2024-11-10T18:25:57.243057Z"
    }
   },
   "outputs": [],
   "source": [
    "marathon_run = extract_gpx('FFM_Marathon_2024.gpx')"
   ]
  },
  {
   "cell_type": "code",
   "execution_count": 4,
   "id": "2c7479e2-82d6-4918-bed6-c114a2811779",
   "metadata": {
    "execution": {
     "iopub.execute_input": "2024-11-10T18:25:58.545770Z",
     "iopub.status.busy": "2024-11-10T18:25:58.545369Z",
     "iopub.status.idle": "2024-11-10T18:25:58.550511Z",
     "shell.execute_reply": "2024-11-10T18:25:58.549886Z",
     "shell.execute_reply.started": "2024-11-10T18:25:58.545741Z"
    }
   },
   "outputs": [],
   "source": [
    "def iterate_workout(data_points):\n",
    "    prev_timestamp = None\n",
    "    for data in data_points:\n",
    "        current_timestamp = datetime.strptime(data['timestamp'], '%Y-%m-%dT%H:%M:%SZ')\n",
    "        if prev_timestamp is not None:\n",
    "            sleep_time = (current_timestamp - prev_timestamp).total_seconds()\n",
    "            time.sleep(max(sleep_time, 0))\n",
    "\n",
    "        prev_timestamp = current_timestamp\n",
    "            \n",
    "        print(f\"Time: {data['timestamp']} / HR: {data['heart_rate']}\")        "
   ]
  },
  {
   "cell_type": "code",
   "execution_count": 5,
   "id": "057b1e4c-bc34-445c-ada8-0f3a8a9ba333",
   "metadata": {
    "execution": {
     "iopub.execute_input": "2024-11-10T18:26:00.438474Z",
     "iopub.status.busy": "2024-11-10T18:26:00.438069Z",
     "iopub.status.idle": "2024-11-10T18:26:15.439245Z",
     "shell.execute_reply": "2024-11-10T18:26:15.438859Z",
     "shell.execute_reply.started": "2024-11-10T18:26:00.438446Z"
    }
   },
   "outputs": [
    {
     "name": "stdout",
     "output_type": "stream",
     "text": [
      "Time: 2024-10-27T09:13:19Z / HR: 163\n",
      "Time: 2024-10-27T09:13:20Z / HR: 163\n",
      "Time: 2024-10-27T09:13:21Z / HR: 163\n",
      "Time: 2024-10-27T09:13:22Z / HR: 163\n",
      "Time: 2024-10-27T09:13:23Z / HR: 163\n",
      "Time: 2024-10-27T09:13:24Z / HR: 163\n",
      "Time: 2024-10-27T09:13:25Z / HR: 163\n",
      "Time: 2024-10-27T09:13:26Z / HR: 163\n",
      "Time: 2024-10-27T09:13:27Z / HR: 163\n",
      "Time: 2024-10-27T09:13:28Z / HR: 166\n",
      "Time: 2024-10-27T09:13:29Z / HR: 166\n",
      "Time: 2024-10-27T09:13:30Z / HR: 168\n",
      "Time: 2024-10-27T09:13:31Z / HR: 168\n",
      "Time: 2024-10-27T09:13:32Z / HR: 168\n",
      "Time: 2024-10-27T09:13:33Z / HR: 168\n"
     ]
    },
    {
     "ename": "KeyboardInterrupt",
     "evalue": "",
     "output_type": "error",
     "traceback": [
      "\u001b[0;31m---------------------------------------------------------------------------\u001b[0m",
      "\u001b[0;31mKeyboardInterrupt\u001b[0m                         Traceback (most recent call last)",
      "Cell \u001b[0;32mIn[5], line 1\u001b[0m\n\u001b[0;32m----> 1\u001b[0m \u001b[43miterate_workout\u001b[49m\u001b[43m(\u001b[49m\u001b[43mmarathon_run\u001b[49m\u001b[43m)\u001b[49m\n",
      "Cell \u001b[0;32mIn[4], line 7\u001b[0m, in \u001b[0;36miterate_workout\u001b[0;34m(data_points)\u001b[0m\n\u001b[1;32m      5\u001b[0m \u001b[38;5;28;01mif\u001b[39;00m prev_timestamp \u001b[38;5;129;01mis\u001b[39;00m \u001b[38;5;129;01mnot\u001b[39;00m \u001b[38;5;28;01mNone\u001b[39;00m:\n\u001b[1;32m      6\u001b[0m     sleep_time \u001b[38;5;241m=\u001b[39m (current_timestamp \u001b[38;5;241m-\u001b[39m prev_timestamp)\u001b[38;5;241m.\u001b[39mtotal_seconds()\n\u001b[0;32m----> 7\u001b[0m     \u001b[43mtime\u001b[49m\u001b[38;5;241;43m.\u001b[39;49m\u001b[43msleep\u001b[49m\u001b[43m(\u001b[49m\u001b[38;5;28;43mmax\u001b[39;49m\u001b[43m(\u001b[49m\u001b[43msleep_time\u001b[49m\u001b[43m,\u001b[49m\u001b[43m \u001b[49m\u001b[38;5;241;43m0\u001b[39;49m\u001b[43m)\u001b[49m\u001b[43m)\u001b[49m\n\u001b[1;32m      9\u001b[0m prev_timestamp \u001b[38;5;241m=\u001b[39m current_timestamp\n\u001b[1;32m     11\u001b[0m \u001b[38;5;28mprint\u001b[39m(\u001b[38;5;124mf\u001b[39m\u001b[38;5;124m\"\u001b[39m\u001b[38;5;124mTime: \u001b[39m\u001b[38;5;132;01m{\u001b[39;00mdata[\u001b[38;5;124m'\u001b[39m\u001b[38;5;124mtimestamp\u001b[39m\u001b[38;5;124m'\u001b[39m]\u001b[38;5;132;01m}\u001b[39;00m\u001b[38;5;124m / HR: \u001b[39m\u001b[38;5;132;01m{\u001b[39;00mdata[\u001b[38;5;124m'\u001b[39m\u001b[38;5;124mheart_rate\u001b[39m\u001b[38;5;124m'\u001b[39m]\u001b[38;5;132;01m}\u001b[39;00m\u001b[38;5;124m\"\u001b[39m)\n",
      "\u001b[0;31mKeyboardInterrupt\u001b[0m: "
     ]
    }
   ],
   "source": [
    "iterate_workout(marathon_run)"
   ]
  }
 ],
 "metadata": {
  "kernelspec": {
   "display_name": "Python 3 (ipykernel)",
   "language": "python",
   "name": "python3"
  },
  "language_info": {
   "codemirror_mode": {
    "name": "ipython",
    "version": 3
   },
   "file_extension": ".py",
   "mimetype": "text/x-python",
   "name": "python",
   "nbconvert_exporter": "python",
   "pygments_lexer": "ipython3",
   "version": "3.12.4"
  },
  "vscode": {
   "interpreter": {
    "hash": "aee8b7b246df8f9039afb4144a1f6fd8d2ca17a180786b69acc140d282b71a49"
   }
  }
 },
 "nbformat": 4,
 "nbformat_minor": 5
}
